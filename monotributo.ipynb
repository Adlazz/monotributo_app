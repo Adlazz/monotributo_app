{
 "cells": [
  {
   "cell_type": "code",
   "execution_count": 1,
   "metadata": {},
   "outputs": [],
   "source": [
    "import pandas as pd\n",
    "import matplotlib.pyplot as plt\n",
    "import seaborn as sns"
   ]
  },
  {
   "cell_type": "code",
   "execution_count": 8,
   "metadata": {},
   "outputs": [],
   "source": [
    "# Cargar el archivo CSV\n",
    "df = pd.read_csv('omar2024.csv', \n",
    "                 sep=';',  # Especificamos el separador como punto y coma\n",
    "                 encoding='utf-8',  # Encoding típico para archivos de AFIP\n",
    "                 decimal=',',  # Especificamos la coma como separador decimal\n",
    "                 thousands='.',  # Especificamos el punto como separador de miles\n",
    ")"
   ]
  },
  {
   "cell_type": "code",
   "execution_count": 10,
   "metadata": {},
   "outputs": [
    {
     "data": {
      "text/html": [
       "<div>\n",
       "<style scoped>\n",
       "    .dataframe tbody tr th:only-of-type {\n",
       "        vertical-align: middle;\n",
       "    }\n",
       "\n",
       "    .dataframe tbody tr th {\n",
       "        vertical-align: top;\n",
       "    }\n",
       "\n",
       "    .dataframe thead th {\n",
       "        text-align: right;\n",
       "    }\n",
       "</style>\n",
       "<table border=\"1\" class=\"dataframe\">\n",
       "  <thead>\n",
       "    <tr style=\"text-align: right;\">\n",
       "      <th></th>\n",
       "      <th>Fecha de Emisión</th>\n",
       "      <th>Tipo de Comprobante</th>\n",
       "      <th>Punto de Venta</th>\n",
       "      <th>Número Desde</th>\n",
       "      <th>Número Hasta</th>\n",
       "      <th>Cód. Autorización</th>\n",
       "      <th>Tipo Doc. Receptor</th>\n",
       "      <th>Nro. Doc. Receptor</th>\n",
       "      <th>Denominación Receptor</th>\n",
       "      <th>Tipo Cambio</th>\n",
       "      <th>Moneda</th>\n",
       "      <th>Imp. Neto Gravado</th>\n",
       "      <th>Imp. Neto No Gravado</th>\n",
       "      <th>Imp. Op. Exentas</th>\n",
       "      <th>Otros Tributos</th>\n",
       "      <th>IVA</th>\n",
       "      <th>Imp. Total</th>\n",
       "    </tr>\n",
       "  </thead>\n",
       "  <tbody>\n",
       "    <tr>\n",
       "      <th>0</th>\n",
       "      <td>2024-01-16</td>\n",
       "      <td>11</td>\n",
       "      <td>4</td>\n",
       "      <td>54</td>\n",
       "      <td>54</td>\n",
       "      <td>74031522188887</td>\n",
       "      <td>80</td>\n",
       "      <td>27313608110</td>\n",
       "      <td>COSTA ANKENBRAND MARIA DANIELA</td>\n",
       "      <td>1.0</td>\n",
       "      <td>PES</td>\n",
       "      <td>0.0</td>\n",
       "      <td>0.0</td>\n",
       "      <td>0.0</td>\n",
       "      <td>0.0</td>\n",
       "      <td>0.0</td>\n",
       "      <td>102328.15</td>\n",
       "    </tr>\n",
       "    <tr>\n",
       "      <th>1</th>\n",
       "      <td>2024-01-16</td>\n",
       "      <td>11</td>\n",
       "      <td>4</td>\n",
       "      <td>55</td>\n",
       "      <td>55</td>\n",
       "      <td>74031522807323</td>\n",
       "      <td>80</td>\n",
       "      <td>27313608110</td>\n",
       "      <td>COSTA ANKENBRAND MARIA DANIELA</td>\n",
       "      <td>1.0</td>\n",
       "      <td>PES</td>\n",
       "      <td>0.0</td>\n",
       "      <td>0.0</td>\n",
       "      <td>0.0</td>\n",
       "      <td>0.0</td>\n",
       "      <td>0.0</td>\n",
       "      <td>58208.75</td>\n",
       "    </tr>\n",
       "    <tr>\n",
       "      <th>2</th>\n",
       "      <td>2024-01-19</td>\n",
       "      <td>11</td>\n",
       "      <td>3</td>\n",
       "      <td>1360</td>\n",
       "      <td>1360</td>\n",
       "      <td>74031526708627</td>\n",
       "      <td>96</td>\n",
       "      <td>18249668</td>\n",
       "      <td>GORLERI HORACIO GUSTAVO CEFERINO</td>\n",
       "      <td>1.0</td>\n",
       "      <td>PES</td>\n",
       "      <td>0.0</td>\n",
       "      <td>0.0</td>\n",
       "      <td>0.0</td>\n",
       "      <td>0.0</td>\n",
       "      <td>0.0</td>\n",
       "      <td>52974.55</td>\n",
       "    </tr>\n",
       "    <tr>\n",
       "      <th>3</th>\n",
       "      <td>2024-01-19</td>\n",
       "      <td>11</td>\n",
       "      <td>3</td>\n",
       "      <td>1366</td>\n",
       "      <td>1366</td>\n",
       "      <td>74031529251636</td>\n",
       "      <td>80</td>\n",
       "      <td>20201012490</td>\n",
       "      <td>SFEIR PABLO</td>\n",
       "      <td>1.0</td>\n",
       "      <td>PES</td>\n",
       "      <td>0.0</td>\n",
       "      <td>0.0</td>\n",
       "      <td>0.0</td>\n",
       "      <td>0.0</td>\n",
       "      <td>0.0</td>\n",
       "      <td>26400.00</td>\n",
       "    </tr>\n",
       "    <tr>\n",
       "      <th>4</th>\n",
       "      <td>2024-01-19</td>\n",
       "      <td>11</td>\n",
       "      <td>3</td>\n",
       "      <td>1361</td>\n",
       "      <td>1361</td>\n",
       "      <td>74031527084726</td>\n",
       "      <td>80</td>\n",
       "      <td>20332251989</td>\n",
       "      <td>ALVAREZ SERGIO JAVIER</td>\n",
       "      <td>1.0</td>\n",
       "      <td>PES</td>\n",
       "      <td>0.0</td>\n",
       "      <td>0.0</td>\n",
       "      <td>0.0</td>\n",
       "      <td>0.0</td>\n",
       "      <td>0.0</td>\n",
       "      <td>4431.20</td>\n",
       "    </tr>\n",
       "  </tbody>\n",
       "</table>\n",
       "</div>"
      ],
      "text/plain": [
       "  Fecha de Emisión  Tipo de Comprobante  Punto de Venta  Número Desde  \\\n",
       "0       2024-01-16                   11               4            54   \n",
       "1       2024-01-16                   11               4            55   \n",
       "2       2024-01-19                   11               3          1360   \n",
       "3       2024-01-19                   11               3          1366   \n",
       "4       2024-01-19                   11               3          1361   \n",
       "\n",
       "   Número Hasta  Cód. Autorización  Tipo Doc. Receptor  Nro. Doc. Receptor  \\\n",
       "0            54     74031522188887                  80         27313608110   \n",
       "1            55     74031522807323                  80         27313608110   \n",
       "2          1360     74031526708627                  96            18249668   \n",
       "3          1366     74031529251636                  80         20201012490   \n",
       "4          1361     74031527084726                  80         20332251989   \n",
       "\n",
       "              Denominación Receptor  Tipo Cambio Moneda  Imp. Neto Gravado  \\\n",
       "0    COSTA ANKENBRAND MARIA DANIELA          1.0    PES                0.0   \n",
       "1    COSTA ANKENBRAND MARIA DANIELA          1.0    PES                0.0   \n",
       "2  GORLERI HORACIO GUSTAVO CEFERINO          1.0    PES                0.0   \n",
       "3                       SFEIR PABLO          1.0    PES                0.0   \n",
       "4             ALVAREZ SERGIO JAVIER          1.0    PES                0.0   \n",
       "\n",
       "   Imp. Neto No Gravado  Imp. Op. Exentas  Otros Tributos  IVA  Imp. Total  \n",
       "0                   0.0               0.0             0.0  0.0   102328.15  \n",
       "1                   0.0               0.0             0.0  0.0    58208.75  \n",
       "2                   0.0               0.0             0.0  0.0    52974.55  \n",
       "3                   0.0               0.0             0.0  0.0    26400.00  \n",
       "4                   0.0               0.0             0.0  0.0     4431.20  "
      ]
     },
     "execution_count": 10,
     "metadata": {},
     "output_type": "execute_result"
    }
   ],
   "source": [
    "df.head()"
   ]
  },
  {
   "cell_type": "code",
   "execution_count": 12,
   "metadata": {},
   "outputs": [
    {
     "data": {
      "text/plain": [
       "Index(['Fecha de Emisión', 'Tipo de Comprobante', 'Punto de Venta',\n",
       "       'Número Desde', 'Número Hasta', 'Cód. Autorización',\n",
       "       'Tipo Doc. Receptor', 'Nro. Doc. Receptor', 'Denominación Receptor',\n",
       "       'Tipo Cambio', 'Moneda', 'Imp. Neto Gravado', 'Imp. Neto No Gravado',\n",
       "       'Imp. Op. Exentas', 'Otros Tributos', 'IVA', 'Imp. Total'],\n",
       "      dtype='object')"
      ]
     },
     "execution_count": 12,
     "metadata": {},
     "output_type": "execute_result"
    }
   ],
   "source": [
    "df.columns"
   ]
  },
  {
   "cell_type": "code",
   "execution_count": 15,
   "metadata": {},
   "outputs": [],
   "source": [
    "# Seleccionamos solo las columnas requeridas\n",
    "columnas_requeridas = [\n",
    "    'Fecha de Emisión', \n",
    "    'Punto de Venta',\n",
    "    'Número Desde', \n",
    "    'Número Hasta', \n",
    "    'Nro. Doc. Receptor', \n",
    "    'Denominación Receptor', \n",
    "    'Imp. Total'\n",
    "]\n",
    "\n",
    "df = df[columnas_requeridas]"
   ]
  },
  {
   "cell_type": "code",
   "execution_count": 16,
   "metadata": {},
   "outputs": [
    {
     "data": {
      "text/plain": [
       "Index(['Fecha de Emisión', 'Punto de Venta', 'Número Desde', 'Número Hasta',\n",
       "       'Nro. Doc. Receptor', 'Denominación Receptor', 'Imp. Total'],\n",
       "      dtype='object')"
      ]
     },
     "execution_count": 16,
     "metadata": {},
     "output_type": "execute_result"
    }
   ],
   "source": [
    "df.columns"
   ]
  },
  {
   "cell_type": "code",
   "execution_count": 25,
   "metadata": {},
   "outputs": [
    {
     "data": {
      "text/plain": [
       "0   2024-01-16\n",
       "1   2024-01-16\n",
       "2   2024-01-19\n",
       "3   2024-01-19\n",
       "4   2024-01-19\n",
       "Name: Fecha de Emisión, dtype: datetime64[ns]"
      ]
     },
     "execution_count": 25,
     "metadata": {},
     "output_type": "execute_result"
    }
   ],
   "source": [
    "df['Fecha de Emisión'].head()"
   ]
  },
  {
   "cell_type": "code",
   "execution_count": 24,
   "metadata": {},
   "outputs": [],
   "source": [
    "df['Fecha de Emisión'] = pd.to_datetime(df['Fecha de Emisión'], format='%Y-%m-%d')"
   ]
  },
  {
   "cell_type": "code",
   "execution_count": 26,
   "metadata": {},
   "outputs": [
    {
     "name": "stdout",
     "output_type": "stream",
     "text": [
      "<class 'pandas.core.frame.DataFrame'>\n",
      "RangeIndex: 215 entries, 0 to 214\n",
      "Data columns (total 7 columns):\n",
      " #   Column                 Non-Null Count  Dtype         \n",
      "---  ------                 --------------  -----         \n",
      " 0   Fecha de Emisión       215 non-null    datetime64[ns]\n",
      " 1   Punto de Venta         215 non-null    int64         \n",
      " 2   Número Desde           215 non-null    int64         \n",
      " 3   Número Hasta           215 non-null    int64         \n",
      " 4   Nro. Doc. Receptor     215 non-null    int64         \n",
      " 5   Denominación Receptor  215 non-null    object        \n",
      " 6   Imp. Total             215 non-null    float64       \n",
      "dtypes: datetime64[ns](1), float64(1), int64(4), object(1)\n",
      "memory usage: 11.9+ KB\n"
     ]
    }
   ],
   "source": [
    "df.info()"
   ]
  },
  {
   "cell_type": "code",
   "execution_count": 27,
   "metadata": {},
   "outputs": [],
   "source": [
    "# Agrupamos por mes y sumamos el Imp. Total\n",
    "facturacion_mensual = df.groupby(df['Fecha de Emisión'].dt.to_period('M'))['Imp. Total'].sum().reset_index()\n",
    "facturacion_mensual['Fecha de Emisión'] = facturacion_mensual['Fecha de Emisión'].dt.to_timestamp()\n",
    "\n",
    "# Calculamos la facturación acumulada\n",
    "facturacion_mensual['Acumulado'] = facturacion_mensual['Imp. Total'].cumsum()"
   ]
  },
  {
   "cell_type": "code",
   "execution_count": 32,
   "metadata": {},
   "outputs": [
    {
     "data": {
      "image/png": "[encoded data removed]",
      "text/plain": [
       "<Figure size 1400x800 with 1 Axes>"
      ]
     },
     "metadata": {},
     "output_type": "display_data"
    }
   ],
   "source": [
    "# Agrupamos por mes y sumamos el Imp. Total\n",
    "facturacion_mensual = df.groupby(df['Fecha de Emisión'].dt.to_period('M'))['Imp. Total'].sum().reset_index()\n",
    "facturacion_mensual['Fecha de Emisión'] = facturacion_mensual['Fecha de Emisión'].dt.to_timestamp()\n",
    "\n",
    "# Calculamos la facturación acumulada\n",
    "facturacion_mensual['Acumulado'] = facturacion_mensual['Imp. Total'].cumsum()\n",
    "\n",
    "# Definimos las categorías de monotributo\n",
    "categorias = {\n",
    "    'A': 6450000, 'B': 9450000, 'C': 13250000, 'D': 16450000, \n",
    "    'E': 19350000, 'F': 24250000, 'G': 29000000, 'H': 44000000, \n",
    "    'I': 49250000, 'J': 56400000, 'K': 68000000\n",
    "}\n",
    "\n",
    "# Función para obtener las categorías relevantes\n",
    "def obtener_categorias_relevantes(facturacion_max):\n",
    "    cat_relevantes = {}\n",
    "    categorias_ordenadas = sorted(categorias.items(), key=lambda x: x[1])\n",
    "    categoria_actual = next((cat for cat, valor in categorias_ordenadas if valor > facturacion_max), 'K')\n",
    "    indice_actual = next(i for i, (cat, _) in enumerate(categorias_ordenadas) if cat == categoria_actual)\n",
    "    \n",
    "    # Incluimos todas las categorías por debajo de la actual\n",
    "    for cat, valor in categorias_ordenadas[:indice_actual]:\n",
    "        cat_relevantes[cat] = valor\n",
    "    \n",
    "    # Incluimos la categoría actual y las dos siguientes (si existen)\n",
    "    for i in range(indice_actual, min(indice_actual + 3, len(categorias_ordenadas))):\n",
    "        cat, valor = categorias_ordenadas[i]\n",
    "        cat_relevantes[cat] = valor\n",
    "    \n",
    "    return cat_relevantes\n",
    "\n",
    "# Obtenemos la facturación máxima acumulada\n",
    "facturacion_max = facturacion_mensual['Acumulado'].max()\n",
    "\n",
    "# Obtenemos las categorías relevantes\n",
    "categorias_relevantes = obtener_categorias_relevantes(facturacion_max)\n",
    "\n",
    "# Creamos el gráfico\n",
    "fig, ax = plt.subplots(figsize=(14, 8))\n",
    "\n",
    "# Configuramos el ancho de las barras y la posición\n",
    "width = 10  # Ancho de cada barra en días\n",
    "x = facturacion_mensual['Fecha de Emisión']\n",
    "\n",
    "# Barras para facturación mensual\n",
    "ax.bar(x - pd.Timedelta(days=width/2), facturacion_mensual['Imp. Total'], \n",
    "       width=width, label='Facturación Mensual', color='skyblue')\n",
    "\n",
    "# Barras para facturación acumulada\n",
    "ax.bar(x + pd.Timedelta(days=width/2), facturacion_mensual['Acumulado'], \n",
    "       width=width, label='Facturación Acumulada', color='orange')\n",
    "\n",
    "# Añadimos las líneas horizontales para cada categoría relevante\n",
    "for categoria, valor in categorias_relevantes.items():\n",
    "    ax.axhline(y=valor, color='red', linestyle='--', alpha=0.5)\n",
    "    ax.text(ax.get_xlim()[1], valor, f' Cat. {categoria}: ${valor:,}', \n",
    "            verticalalignment='bottom', horizontalalignment='right')\n",
    "\n",
    "# Configuración del gráfico\n",
    "ax.set_xlabel('Fecha')\n",
    "ax.set_ylabel('Importe')\n",
    "ax.set_title('Contribuyente: Omar')\n",
    "ax.legend()\n",
    "\n",
    "# Rotamos las etiquetas del eje x para mejor legibilidad\n",
    "plt.xticks(rotation=45)\n",
    "\n",
    "# Ajustamos el límite superior del eje y para dar espacio a todas las categorías relevantes\n",
    "ax.set_ylim(top=max(categorias_relevantes.values()) * 1.1)\n",
    "\n",
    "# Ajustamos el diseño y mostramos el gráfico\n",
    "plt.tight_layout()\n",
    "plt.show()\n"
   ]
  }
 ],
 "metadata": {
  "kernelspec": {
   "display_name": "venv",
   "language": "python",
   "name": "python3"
  },
  "language_info": {
   "codemirror_mode": {
    "name": "ipython",
    "version": 3
   },
   "file_extension": ".py",
   "mimetype": "text/x-python",
   "name": "python",
   "nbconvert_exporter": "python",
   "pygments_lexer": "ipython3",
   "version": "3.11.7"
  }
 },
 "nbformat": 4,
 "nbformat_minor": 2
}
